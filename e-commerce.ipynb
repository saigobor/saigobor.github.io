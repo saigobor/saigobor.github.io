{
 "cells": [
  {
   "cell_type": "code",
   "execution_count": 1,
   "id": "1112abed-b092-410e-a92e-d9c11b6d236b",
   "metadata": {},
   "outputs": [],
   "source": [
    "import numpy as np"
   ]
  },
  {
   "cell_type": "code",
   "execution_count": 25,
   "id": "23262471-5f92-4a27-9053-a7a5463c9f26",
   "metadata": {},
   "outputs": [],
   "source": [
    "def center(vector):\n",
    "    return vector - np.mean(vector)\n",
    "\n",
    "def normalize(vector):\n",
    "    total_sum = sum(abs(i) for i in vector)\n",
    "    return vector / np.linalg.norm(vector)"
   ]
  },
  {
   "cell_type": "code",
   "execution_count": 28,
   "id": "a50d0065-4047-48b9-b849-22c26594582f",
   "metadata": {},
   "outputs": [],
   "source": [
    "V1 = normalize(center(np.array([3,2,0,1,0,0,3,2,0])))  #C\n",
    "V2 = normalize(center(np.array([3, 2, 2, 3, 2, 0, 3, 2, 2] )))  #E\n",
    "V3 = normalize(center(np.array([1, 0, 1, 3, 2, 3, 1, 0, 1])))  #H\n",
    "epsilon = 1e-8\n",
    "V1 += np.random.uniform(-epsilon, epsilon, V1.shape)"
   ]
  },
  {
   "cell_type": "code",
   "execution_count": 50,
   "id": "c8669f29-7ff8-4941-b8b7-4f69ad2342b8",
   "metadata": {},
   "outputs": [
    {
     "data": {
      "text/plain": [
       "array([[ 1.87869467, -0.94054677,  0.64996396],\n",
       "       [-0.94054677,  1.55668822, -0.02014546],\n",
       "       [ 0.64996396, -0.02014546,  1.31067961]])"
      ]
     },
     "execution_count": 50,
     "metadata": {},
     "output_type": "execute_result"
    }
   ],
   "source": [
    "V = [V1, V2, V3] \n",
    "\n",
    "W = np.matmul(V, np.transpose(V))\n",
    "\n",
    "A = np.linalg.inv(W)\n",
    "A"
   ]
  },
  {
   "cell_type": "code",
   "execution_count": 59,
   "id": "864e14f4-8931-410e-8dbf-01e3dc338d1f",
   "metadata": {},
   "outputs": [
    {
     "data": {
      "text/plain": [
       "array([[ 0.90714146, -0.31853216, -0.06851222],\n",
       "       [ 0.3968744 ,  0.03981652, -0.27404887],\n",
       "       [-0.62365974,  0.03981652, -0.06851222],\n",
       "       [-0.11339268, -0.31853216,  0.34256109],\n",
       "       [-0.62365977,  0.03981652,  0.13702443],\n",
       "       [-0.62365974,  0.75651387,  0.34256109],\n",
       "       [ 0.90714148, -0.31853216, -0.06851222],\n",
       "       [ 0.39687439,  0.03981652, -0.27404887],\n",
       "       [-0.62365976,  0.03981652, -0.06851222]])"
      ]
     },
     "execution_count": 59,
     "metadata": {},
     "output_type": "execute_result"
    }
   ],
   "source": [
    "U1 = np.multiply(A[0],np.transpose(V))\n",
    "U2 = sum(np.multiply(A[1],np.transpose(V)))\n",
    "U3 = sum(np.multiply(A[2],np.transpose(V)))\n",
    "U1"
   ]
  },
  {
   "cell_type": "code",
   "execution_count": 54,
   "id": "c345d336-d14b-44b9-a8c3-ee3253eb0cc6",
   "metadata": {},
   "outputs": [
    {
     "data": {
      "text/plain": [
       "np.float64(0.49021682687307266)"
      ]
     },
     "execution_count": 54,
     "metadata": {},
     "output_type": "execute_result"
    }
   ],
   "source": [
    "np.linalg.det(W)"
   ]
  },
  {
   "cell_type": "markdown",
   "id": "ae5d796d-1e8b-44ac-8ca5-46e533d762df",
   "metadata": {},
   "source": [
    "# Распознавание"
   ]
  },
  {
   "cell_type": "code",
   "execution_count": 32,
   "id": "d89e7383-ec75-41cc-a812-d006cd9bb6af",
   "metadata": {},
   "outputs": [],
   "source": [
    "J = normalize(center([3,2,3,1,0,0,3,2,3])) # C -|   _|\n",
    "J=np.round(J,3)"
   ]
  },
  {
   "cell_type": "code",
   "execution_count": 33,
   "id": "8b320079-5111-41bb-9142-d26a18152505",
   "metadata": {},
   "outputs": [],
   "source": [
    "p1 = np.matmul(U1,J)\n",
    "p2 = np.matmul(U2,J)\n",
    "p3 = np.matmul(U3,J)"
   ]
  },
  {
   "cell_type": "code",
   "execution_count": 34,
   "id": "324b525f-e309-4b3a-ad04-e27f889cf2fd",
   "metadata": {},
   "outputs": [
    {
     "data": {
      "text/plain": [
       "(np.float64(1.4546946609058722),\n",
       " np.float64(0.3828935488880587),\n",
       " np.float64(-3.359196497274517))"
      ]
     },
     "execution_count": 34,
     "metadata": {},
     "output_type": "execute_result"
    }
   ],
   "source": [
    "p1, p2, p3"
   ]
  },
  {
   "cell_type": "code",
   "execution_count": 47,
   "id": "06391a14-578f-40f7-b77e-ad1f6185da5c",
   "metadata": {},
   "outputs": [],
   "source": [
    "from scipy.integrate import solve_ivp\n",
    "import matplotlib.pyplot as plt\n",
    "def display(y0, C):    \n",
    "    def model(t, p):   \n",
    "        B = 0.5\n",
    "        dydt = np.zeros(3)        \n",
    "        for k in range(3):\n",
    "            dydt[k] = (p[k]                       \n",
    "                       - B *1* p[k] * sum([pi * pi for i, pi in enumerate(p) if i != k])\n",
    "                       - C *1* p[k] * sum([pi * pi for i, pi in enumerate(p)]))\n",
    "        return dydt\n",
    "    t_span = (0, 10)    \n",
    "    t_eval = np.linspace(t_span[0], t_span[1], 100)\n",
    "    solution = solve_ivp(model, t_span, y0, t_eval=t_eval)\n",
    "    start = 1\n",
    "    plt.plot(solution.t[start:], solution.y[0][start:], label='C')\n",
    "    plt.plot(solution.t[start:], solution.y[1][start:], label='E')    \n",
    "    plt.plot(solution.t[start:], solution.y[2][start:], label='H')\n",
    "    plt.xlabel('Время t')    \n",
    "    plt.ylabel('y')\n",
    "    plt.title('Графики')    \n",
    "    plt.legend()\n",
    "    plt.grid()    \n",
    "    plt.show()\n"
   ]
  },
  {
   "cell_type": "code",
   "execution_count": 48,
   "id": "d8bc1093-4502-4c3e-b835-60188e81add1",
   "metadata": {},
   "outputs": [
    {
     "data": {
      "image/png": "[encoded data removed]",
      "text/plain": [
       "<Figure size 640x480 with 1 Axes>"
      ]
     },
     "metadata": {},
     "output_type": "display_data"
    }
   ],
   "source": [
    "display([p1, p2, p3], 1)"
   ]
  },
  {
   "cell_type": "code",
   "execution_count": null,
   "id": "7835cbcd-8bff-422d-89e8-fc70c3ac48d1",
   "metadata": {},
   "outputs": [],
   "source": []
  }
 ],
 "metadata": {
  "kernelspec": {
   "display_name": "Python 3 (ipykernel)",
   "language": "python",
   "name": "python3"
  },
  "language_info": {
   "codemirror_mode": {
    "name": "ipython",
    "version": 3
   },
   "file_extension": ".py",
   "mimetype": "text/x-python",
   "name": "python",
   "nbconvert_exporter": "python",
   "pygments_lexer": "ipython3",
   "version": "3.12.5"
  }
 },
 "nbformat": 4,
 "nbformat_minor": 5
}
